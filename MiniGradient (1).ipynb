{
 "cells": [
  {
   "cell_type": "code",
   "execution_count": 1,
   "id": "6c96a229",
   "metadata": {},
   "outputs": [],
   "source": [
    "import numpy as np\n",
    "import pandas as pd\n",
    "import matplotlib.pyplot as plt\n",
    "from matplotlib import style\n",
    "style.use('fivethirtyeight')\n",
    "import warnings\n",
    "warnings.filterwarnings('ignore')"
   ]
  },
  {
   "cell_type": "code",
   "execution_count": 49,
   "id": "594a8da0",
   "metadata": {},
   "outputs": [
    {
     "data": {
      "text/html": [
       "<div>\n",
       "<style scoped>\n",
       "    .dataframe tbody tr th:only-of-type {\n",
       "        vertical-align: middle;\n",
       "    }\n",
       "\n",
       "    .dataframe tbody tr th {\n",
       "        vertical-align: top;\n",
       "    }\n",
       "\n",
       "    .dataframe thead th {\n",
       "        text-align: right;\n",
       "    }\n",
       "</style>\n",
       "<table border=\"1\" class=\"dataframe\">\n",
       "  <thead>\n",
       "    <tr style=\"text-align: right;\">\n",
       "      <th></th>\n",
       "      <th>Age</th>\n",
       "      <th>Yearsofservice</th>\n",
       "      <th>Salary</th>\n",
       "    </tr>\n",
       "  </thead>\n",
       "  <tbody>\n",
       "    <tr>\n",
       "      <th>0</th>\n",
       "      <td>27</td>\n",
       "      <td>1.7</td>\n",
       "      <td>39343</td>\n",
       "    </tr>\n",
       "    <tr>\n",
       "      <th>1</th>\n",
       "      <td>26</td>\n",
       "      <td>1.1</td>\n",
       "      <td>43205</td>\n",
       "    </tr>\n",
       "    <tr>\n",
       "      <th>2</th>\n",
       "      <td>26</td>\n",
       "      <td>1.2</td>\n",
       "      <td>47731</td>\n",
       "    </tr>\n",
       "    <tr>\n",
       "      <th>3</th>\n",
       "      <td>27</td>\n",
       "      <td>1.6</td>\n",
       "      <td>46525</td>\n",
       "    </tr>\n",
       "    <tr>\n",
       "      <th>4</th>\n",
       "      <td>26</td>\n",
       "      <td>1.5</td>\n",
       "      <td>40891</td>\n",
       "    </tr>\n",
       "  </tbody>\n",
       "</table>\n",
       "</div>"
      ],
      "text/plain": [
       "   Age  Yearsofservice  Salary\n",
       "0   27             1.7   39343\n",
       "1   26             1.1   43205\n",
       "2   26             1.2   47731\n",
       "3   27             1.6   46525\n",
       "4   26             1.5   40891"
      ]
     },
     "execution_count": 49,
     "metadata": {},
     "output_type": "execute_result"
    }
   ],
   "source": [
    "salary_data=pd.read_excel('C:/Users/GHRCE/Documents/salary.xlsx')\n",
    "salary_data.head()"
   ]
  },
  {
   "cell_type": "code",
   "execution_count": 50,
   "id": "f4f68b0e",
   "metadata": {},
   "outputs": [],
   "source": [
    "x=np.array(salary_data['Age'])\n",
    "y=np.array(salary_data['Salary'])\n",
    "l=len(x)\n"
   ]
  },
  {
   "cell_type": "code",
   "execution_count": 51,
   "id": "8b3b20f9",
   "metadata": {},
   "outputs": [],
   "source": [
    "from sklearn.model_selection import train_test_split"
   ]
  },
  {
   "cell_type": "code",
   "execution_count": 52,
   "id": "1eee32db",
   "metadata": {},
   "outputs": [],
   "source": [
    "x_train,x_test,y_train,y_test=train_test_split(x,y,random_state=32)\n",
    "lx=len(x_train)"
   ]
  },
  {
   "cell_type": "code",
   "execution_count": 53,
   "id": "7a8a50d4",
   "metadata": {},
   "outputs": [],
   "source": [
    "class mini_batch_gradient_descent:\n",
    "    def create_batch(self,x_train,y_train,batch_size):\n",
    "        mini_batches=[]\n",
    "        data=np.stack((x_train,y_train),axis=1)\n",
    "        np.random.shuffle(data)\n",
    "        no_of_batches=x_train.shape[0]//batch_size\n",
    "        for i in range(no_of_batches):\n",
    "            mini_batch=data[i*batch_size:(i+1)*batch_size]\n",
    "            mini_batches.append((mini_batch[:,0],mini_batch[:,1]))\n",
    "        if x_train.shape[0]%batch_size!=0:\n",
    "            mini_batch=data[(i+1)*batch_size:]\n",
    "            mini_batches.append((mini_batch[:,0],mini_batch[:,1]))\n",
    "        return mini_batches\n",
    "    \n",
    "    def fit(self,x_train,y_train,alpha,epochs,batch_size):\n",
    "        self.m=np.random.randn(1,1)\n",
    "        self.c=np.random.randn(1,1)\n",
    "        l=len(x_train)\n",
    "        for i in range(epochs):\n",
    "            batches=self.create_batch(x_train,y_train,batch_size)\n",
    "            for batch in batches:\n",
    "                xb=batch[0]\n",
    "                yb=batch[1]\n",
    "                xb=xb.reshape(1,xb.shape[0])\n",
    "                intecept=np.sum((np.dot(self.m,xb)+self.c)-yb)\n",
    "                slope=np.sum(((np.dot(self.m,xb)+self.c)-yb)*xb)\n",
    "                self.m=self.m-alpha*(slope/l)\n",
    "                self.c=self.c-alpha*(intecept/l)\n",
    "    def slope_intercept(self):\n",
    "        print(f\"slope is {self.m[0][0]}\")\n",
    "        print(f\"intecept is {self.c[0][0]}\")\n",
    "    def predict(self,x_test):\n",
    "        x_test=x_test.reshape(x_test.shape[0],1)\n",
    "        self.m=self.m.reshape(self.m.shape[1],self.m.shape[0])\n",
    "        result=np.dot(x_test,self.m)+self.c\n",
    "        return result"
   ]
  },
  {
   "cell_type": "code",
   "execution_count": 54,
   "id": "5e508e6c",
   "metadata": {},
   "outputs": [],
   "source": [
    "mgd=mini_batch_gradient_descent()"
   ]
  },
  {
   "cell_type": "code",
   "execution_count": 73,
   "id": "8efe3005",
   "metadata": {},
   "outputs": [],
   "source": [
    "mgd.fit(x_train,y_train,0.01,4000,2)"
   ]
  },
  {
   "cell_type": "code",
   "execution_count": 74,
   "id": "a72b9856",
   "metadata": {},
   "outputs": [
    {
     "name": "stdout",
     "output_type": "stream",
     "text": [
      "slope is 1773.5413155405588\n",
      "intecept is 2991.759914260793\n"
     ]
    }
   ],
   "source": [
    "mgd.slope_intercept()"
   ]
  },
  {
   "cell_type": "code",
   "execution_count": 75,
   "id": "8ef7f526",
   "metadata": {},
   "outputs": [],
   "source": [
    "y_pred=mgd.predict(x_test)"
   ]
  },
  {
   "cell_type": "code",
   "execution_count": 76,
   "id": "07ce619f",
   "metadata": {},
   "outputs": [
    {
     "data": {
      "image/png": "[encoded data removed]",
      "text/plain": [
       "<Figure size 432x288 with 1 Axes>"
      ]
     },
     "metadata": {},
     "output_type": "display_data"
    }
   ],
   "source": [
    "plt.plot(x_test,y_pred,marker='o',\n",
    "         color='blue',markerfacecolor='red',\n",
    "         markersize=10,linestyle='dashed')\n",
    "plt.scatter(x,y,marker='o',color='red')\n",
    "plt.xlabel(\"age\")\n",
    "plt.ylabel(\"salary\")\n",
    "plt.title(\"Gradient descent\")\n",
    "plt.show()"
   ]
  },
  {
   "cell_type": "code",
   "execution_count": 77,
   "id": "da799902",
   "metadata": {},
   "outputs": [],
   "source": [
    "from sklearn.metrics import mean_squared_error,r2_score,mean_absolute_error\n",
    "from sklearn.metrics import explained_variance_score"
   ]
  },
  {
   "cell_type": "code",
   "execution_count": 78,
   "id": "f6dd359e",
   "metadata": {},
   "outputs": [
    {
     "name": "stdout",
     "output_type": "stream",
     "text": [
      "12822190.417021245\n",
      "3580.808626137572\n",
      "2941.4026055825584\n",
      "0.5053496411927254\n",
      "0.35375058559286254\n"
     ]
    }
   ],
   "source": [
    "print(mean_squared_error(y_test,y_pred))\n",
    "print(np.sqrt(mean_squared_error(y_test,y_pred)))\n",
    "print(mean_absolute_error(y_test,y_pred))\n",
    "print(explained_variance_score(y_test,y_pred))\n",
    "print(r2_score(y_test,y_pred))"
   ]
  },
  {
   "cell_type": "code",
   "execution_count": null,
   "id": "b665ebc1",
   "metadata": {},
   "outputs": [],
   "source": []
  },
  {
   "cell_type": "code",
   "execution_count": null,
   "id": "42eb2078",
   "metadata": {},
   "outputs": [],
   "source": []
  },
  {
   "cell_type": "code",
   "execution_count": null,
   "id": "9a77413a",
   "metadata": {},
   "outputs": [],
   "source": []
  }
 ],
 "metadata": {
  "kernelspec": {
   "display_name": "Python 3",
   "language": "python",
   "name": "python3"
  },
  "language_info": {
   "codemirror_mode": {
    "name": "ipython",
    "version": 3
   },
   "file_extension": ".py",
   "mimetype": "text/x-python",
   "name": "python",
   "nbconvert_exporter": "python",
   "pygments_lexer": "ipython3",
   "version": "3.8.8"
  }
 },
 "nbformat": 4,
 "nbformat_minor": 5
}
